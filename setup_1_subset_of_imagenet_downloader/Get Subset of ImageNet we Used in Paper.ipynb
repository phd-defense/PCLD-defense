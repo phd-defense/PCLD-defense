{
 "cells": [
  {
   "cell_type": "markdown",
   "id": "95c13c57",
   "metadata": {},
   "source": [
    "# Get the subset of ImageNet from kaggle\n",
    "#### note that it required to download the entire dataset from [Kaggle](https://www.kaggle.com/c/imagenet-object-localization-challenge/overview/description)."
   ]
  },
  {
   "cell_type": "markdown",
   "id": "a76eab14",
   "metadata": {},
   "source": [
    "### 0. Import necessary modules"
   ]
  },
  {
   "cell_type": "code",
   "execution_count": null,
   "id": "283966ea",
   "metadata": {},
   "outputs": [],
   "source": [
    "import os\n",
    "import zipfile\n",
    "import shutil\n",
    "import pandas as pd\n",
    "from PIL import Image\n",
    "import random\n",
    "import warnings\n",
    "\n",
    "# Set the seed\n",
    "random.seed(42)\n",
    "# Filter warnings\n",
    "warnings.filterwarnings(\"ignore\")\n"
   ]
  },
  {
   "cell_type": "markdown",
   "id": "0fcf0463",
   "metadata": {},
   "source": [
    "### 1. Install Kaggle"
   ]
  },
  {
   "cell_type": "code",
   "execution_count": null,
   "id": "a436d3e4",
   "metadata": {},
   "outputs": [],
   "source": [
    "!pip install kaggle\n"
   ]
  },
  {
   "cell_type": "markdown",
   "id": "8cb67658",
   "metadata": {},
   "source": [
    "### 2. Obtain the Kaggle API Token by downloading it personally\n",
    "\n",
    "* Go to the Kaggle website and log in.\n",
    "* Click on your profile picture at the top right and navigate to **Settings**.\n",
    "* Scroll down to the **API** section and click on **Create New Token**.\n",
    "* This action will download a kaggle.json file."
   ]
  },
  {
   "cell_type": "markdown",
   "id": "a0da4ca5",
   "metadata": {},
   "source": [
    "### 3. Move the \"kaggle.json\" file to \"~/.kaggle\" directory"
   ]
  },
  {
   "cell_type": "markdown",
   "id": "5c7e0d5f",
   "metadata": {},
   "source": [
    "Create the .kaggle directory in your home folder"
   ]
  },
  {
   "cell_type": "code",
   "execution_count": null,
   "id": "78dbf595",
   "metadata": {},
   "outputs": [],
   "source": [
    "!mkdir -p ~/.kaggle"
   ]
  },
  {
   "cell_type": "markdown",
   "id": "753a3308",
   "metadata": {},
   "source": [
    "Move the kaggle.json file. Replace '/path/to/kaggle.json' with the actual path to the downloaded file."
   ]
  },
  {
   "cell_type": "code",
   "execution_count": null,
   "id": "f0a07d3c",
   "metadata": {},
   "outputs": [],
   "source": [
    "!mv /Users/your_user/Downloads/kaggle.json ~/.kaggle/"
   ]
  },
  {
   "cell_type": "markdown",
   "id": "1b7b2969",
   "metadata": {},
   "source": [
    "Set the file permissions"
   ]
  },
  {
   "cell_type": "code",
   "execution_count": null,
   "id": "da00a873",
   "metadata": {},
   "outputs": [],
   "source": [
    "!chmod 600 ~/.kaggle/kaggle.json"
   ]
  },
  {
   "cell_type": "markdown",
   "id": "549408a5",
   "metadata": {},
   "source": [
    "### 4. Download the dataset"
   ]
  },
  {
   "cell_type": "code",
   "execution_count": null,
   "id": "320ad29d",
   "metadata": {},
   "outputs": [],
   "source": [
    "!kaggle competitions download -c imagenet-object-localization-challenge\n"
   ]
  },
  {
   "cell_type": "markdown",
   "id": "747807a5",
   "metadata": {},
   "source": [
    "### 5. Extract (unzip) the downloaded file"
   ]
  },
  {
   "cell_type": "code",
   "execution_count": null,
   "id": "d728acc9",
   "metadata": {},
   "outputs": [],
   "source": [
    "# Path to your zip file\n",
    "zip_file_path = 'imagenet-object-localization-challenge.zip'\n",
    "# Directory to extract to\n",
    "extract_to_dir = '.'\n",
    "os.makedirs(extract_to_dir, exist_ok=True)\n",
    "\n",
    "with zipfile.ZipFile(zip_file_path, 'r') as zip_ref:\n",
    "    zip_ref.extractall(extract_to_dir)\n",
    "\n",
    "print(f\"Files extracted to {extract_to_dir}\")\n"
   ]
  },
  {
   "cell_type": "markdown",
   "id": "933a105b",
   "metadata": {},
   "source": [
    "### 6. Copy a subset to the \"resourses/dataset\" directory (and resize the images to 300x300)"
   ]
  },
  {
   "cell_type": "markdown",
   "id": "dc8ce386",
   "metadata": {},
   "source": [
    "For resizing images"
   ]
  },
  {
   "cell_type": "code",
   "execution_count": null,
   "id": "8b632f24",
   "metadata": {},
   "outputs": [],
   "source": [
    "!pip install Pillow\n"
   ]
  },
  {
   "cell_type": "markdown",
   "id": "bc11e995",
   "metadata": {},
   "source": [
    "Load images table"
   ]
  },
  {
   "cell_type": "code",
   "execution_count": null,
   "id": "8e79da15",
   "metadata": {},
   "outputs": [],
   "source": [
    "images_df = pd.read_csv('subset_of_imagenet_images_list.csv')\n",
    "images_df.head()\n"
   ]
  },
  {
   "cell_type": "markdown",
   "id": "0202d02b",
   "metadata": {},
   "source": [
    "Resize and copy the required images to the destination directory"
   ]
  },
  {
   "cell_type": "code",
   "execution_count": null,
   "id": "f9881fd5",
   "metadata": {},
   "outputs": [],
   "source": [
    "datasets_main_dir = '../resources/datasets'\n",
    "\n",
    "# Path to the directory where the unzipped files are stored\n",
    "dataset_dir = extract_to_dir + '/ILSVRC/Data/CLS-LOC'\n",
    "# Path to the directory where you want to store the subset\n",
    "subset_dir = datasets_main_dir + '/subset_of_imagenet'\n",
    "os.makedirs(subset_dir, exist_ok=True)\n",
    "\n",
    "for i in range(images_df.shape[0]):\n",
    "    img_row = images_df.iloc[i:i+1, :]\n",
    "    # Build the source path\n",
    "    phase_source = max(img_row['phase_source'])\n",
    "    image_folder = max(img_row['image_folder'])\n",
    "    image_name_full = max(img_row['image_name_full'])\n",
    "    source_path = os.path.join(dataset_dir, phase_source, image_folder, image_name_full)\n",
    "    \n",
    "    # Build the destination path\n",
    "    phase_destination = max(img_row['phase_destination'])\n",
    "    animal = max(img_row['animal'])\n",
    "    destination_dir = os.path.join(subset_dir, phase_destination, animal)\n",
    "    destination_path = os.path.join(destination_dir, image_name_full.replace('JPEG', 'png'))\n",
    "    os.makedirs(destination_dir, exist_ok=True)\n",
    "    \n",
    "    # Resize and save the image\n",
    "    img = Image.open(source_path)\n",
    "    resized_img = img.resize((300, 300), Image.ANTIALIAS)\n",
    "    resized_img.save(destination_path)\n"
   ]
  },
  {
   "cell_type": "markdown",
   "id": "9bf9ed61",
   "metadata": {},
   "source": [
    "## ------------------ Sample Small Dataset ------------------\n",
    "#### If you wish to work with few samples run the following code as well"
   ]
  },
  {
   "cell_type": "code",
   "execution_count": null,
   "id": "6ad3fff6",
   "metadata": {},
   "outputs": [],
   "source": [
    "# how many samples to take from each type of animal\n",
    "n_samples_train = 33\n",
    "n_samples_validation = 3\n",
    "n_samples_test = 7\n",
    "n_samples_train_full = n_samples_train + n_samples_validation\n",
    "\n",
    "\n",
    "subset_sample_dir = datasets_main_dir + '/subset_of_imagenet_sample'\n",
    "os.makedirs(subset_sample_dir, exist_ok=True)\n",
    "\n",
    "def copy_images(source_dir, destination_dir, image_files):\n",
    "    for file_name in image_files:\n",
    "        source_file = os.path.join(source_dir, file_name)\n",
    "        destination_file = os.path.join(destination_dir, file_name)\n",
    "        shutil.copy(source_file, destination_file)\n",
    "\n",
    "for dir_path, dir_names, files in os.walk(subset_dir):\n",
    "    if files and '.DS_Store' not in files:\n",
    "        dir_path_splt = dir_path.split('/')\n",
    "        phase = dir_path_splt[-2]\n",
    "        animal = dir_path_splt[-1]\n",
    "        \n",
    "        print(f'phase: {phase}, animal: {animal}')\n",
    "        \n",
    "        if phase == 'train_full':\n",
    "            n = n_samples_train_full\n",
    "        elif phase == 'train':\n",
    "            n = n_samples_train\n",
    "        elif phase == 'val':\n",
    "            n = n_samples_validation\n",
    "        else:\n",
    "            n = n_samples_test\n",
    "            \n",
    "        # sample images paths\n",
    "        image_files = random.sample(files, n)\n",
    "        # copy images to the sample folder\n",
    "        destination_dir = os.path.join(subset_sample_dir, phase, animal)\n",
    "        os.makedirs(destination_dir, exist_ok=True)\n",
    "        copy_images(dir_path, destination_dir, image_files)\n",
    "        \n",
    "        \n",
    "        "
   ]
  }
 ],
 "metadata": {
  "kernelspec": {
   "display_name": "Python 3 (ipykernel)",
   "language": "python",
   "name": "python3"
  },
  "language_info": {
   "codemirror_mode": {
    "name": "ipython",
    "version": 3
   },
   "file_extension": ".py",
   "mimetype": "text/x-python",
   "name": "python",
   "nbconvert_exporter": "python",
   "pygments_lexer": "ipython3",
   "version": "3.9.7"
  }
 },
 "nbformat": 4,
 "nbformat_minor": 5
}
